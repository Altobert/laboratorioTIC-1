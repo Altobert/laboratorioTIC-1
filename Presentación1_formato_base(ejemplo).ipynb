{
  "nbformat": 4,
  "nbformat_minor": 0,
  "metadata": {
    "colab": {
      "provenance": [],
      "include_colab_link": true
    },
    "kernelspec": {
      "name": "python3",
      "display_name": "Python 3"
    },
    "language_info": {
      "name": "python"
    }
  },
  "cells": [
    {
      "cell_type": "markdown",
      "metadata": {
        "id": "view-in-github",
        "colab_type": "text"
      },
      "source": [
        "<a href=\"https://colab.research.google.com/github/Altobert/laboratorioTIC-1/blob/main/Presentaci%C3%B3n1_formato_base(ejemplo).ipynb\" target=\"_parent\"><img src=\"https://colab.research.google.com/assets/colab-badge.svg\" alt=\"Open In Colab\"/></a>"
      ]
    },
    {
      "cell_type": "markdown",
      "source": [
        "#PRESENTACIÓN 1: *Título Data set\n",
        "\n",
        "**Integrantes**:\n",
        "\n",
        "\n",
        "* *Integrante 1\n",
        "* *Integrante 2"
      ],
      "metadata": {
        "id": "ZlZRSfIIxsnK"
      }
    },
    {
      "cell_type": "markdown",
      "source": [
        "*Tip General 👀👀: Te recomiendo que si estás viendo un dataset de un área de conocimiento lejano al conocimiento general, busques más referencias, googlea si ese outlier puede ser real o investiga ¿a qué se refiere dicha variable que se comporta diferente a las otras? y que conoces poco, añade fotos que ayuden a ejemplificar las variables o las diferencias entre grupos si amerita. No todo esta en el dataset, ¿cómo obtuvieron los datos de tu dataset?, explora más módelos, más tipos de gráficos y formas de trabajar con la data para elaborar análisis que eviten lo trivial."
      ],
      "metadata": {
        "id": "eDkxBcTQcKKu"
      }
    },
    {
      "cell_type": "markdown",
      "source": [
        "#1 Introducción"
      ],
      "metadata": {
        "id": "2HTy80tx1UfW"
      }
    },
    {
      "cell_type": "markdown",
      "source": [
        "*Escribe una breve descripción de en qué consiste el Data set, sus variables y cuál es el target.\n",
        "\n",
        "*Tip 👀: En la presentación solo nombrar de forma general esta parte, es decir, nombra solo las variables más relevantes para el estudio\n"
      ],
      "metadata": {
        "id": "IN1E2gww1Ypt"
      }
    },
    {
      "cell_type": "markdown",
      "source": [
        "# 2 Cargar el problema"
      ],
      "metadata": {
        "id": "6mgDfNBT1g0L"
      }
    },
    {
      "cell_type": "markdown",
      "source": [
        "###2.1 Drive"
      ],
      "metadata": {
        "id": "YMq1253z1qDO"
      }
    },
    {
      "cell_type": "code",
      "execution_count": null,
      "metadata": {
        "id": "8b0eVG1vxaMq"
      },
      "outputs": [],
      "source": [
        "# Para acceder a los archivos del gdrive\n",
        "from google.colab import drive\n",
        "drive.mount('/content/gdrive')"
      ]
    },
    {
      "cell_type": "markdown",
      "source": [
        "###2.2 Importaciones"
      ],
      "metadata": {
        "id": "BmLVDOhb1ubU"
      }
    },
    {
      "cell_type": "code",
      "source": [
        "#Escribe tus importaciones desde los modulos que requieras. Por ejemplo:\n",
        "\n",
        "#Pandas es utilizado para leer los set de datos\n",
        "import pandas as pd\n",
        "#Numpy es utilizado para generar las series de datos a graficar\n",
        "import numpy as np\n",
        "#Scipy es utilizado para las pruebas de hipótesis estadísticas\n",
        "from scipy import stats\n",
        "#Matplotlib es utilizado para generar los gráficos\n",
        "import matplotlib.pyplot as plt\n",
        "#Seaborn para generar gráficos\n",
        "import seaborn as sns\n",
        "\n",
        "#ETC ETC..."
      ],
      "metadata": {
        "id": "vEcLrKkQ1zzt"
      },
      "execution_count": null,
      "outputs": []
    },
    {
      "cell_type": "markdown",
      "source": [
        "###2.3 Funciones"
      ],
      "metadata": {
        "id": "vIg3N_3t2L04"
      }
    },
    {
      "cell_type": "code",
      "source": [
        "#Añade las funciones propias que necesites\n",
        "#Las funciones propias, son funciones creadas por tí y son importantes pues las personalizas según lo que necesites, ayudan a mantener el orden\n",
        "#y las puedes volver a reutilizar en otra parte del código.\n",
        "#No olvidar de agregar comentarios a tu función para definirlas y detallar qué hacen"
      ],
      "metadata": {
        "id": "hmse7zwB2Qe0"
      },
      "execution_count": null,
      "outputs": []
    },
    {
      "cell_type": "markdown",
      "source": [
        "# 3 Investigación de estructura y calidad del Data set"
      ],
      "metadata": {
        "id": "MMmrboMq26zx"
      }
    },
    {
      "cell_type": "markdown",
      "source": [
        "## 3.1 Investigación de estructura"
      ],
      "metadata": {
        "id": "6s7CSTnM29qa"
      }
    },
    {
      "cell_type": "code",
      "source": [
        "#En este apartado te recomiendo visualizar aspectos básicos para tu data como:\n",
        "##Visualización del encabezado: ocupando .head()\n",
        "##Tamaño del data set: ocupando .shape\n",
        "##Información: ocupando .info()\n",
        "##Tip 👀: Vizualización gráfica del target\n",
        "##Etc."
      ],
      "metadata": {
        "id": "BzuXzEb03IjI"
      },
      "execution_count": null,
      "outputs": []
    },
    {
      "cell_type": "markdown",
      "source": [
        "*Añade una breve conclusión de la investigación de la estructura"
      ],
      "metadata": {
        "id": "H5cHbfY73_mt"
      }
    },
    {
      "cell_type": "markdown",
      "source": [
        "## 3.2 Investigación de calidad"
      ],
      "metadata": {
        "id": "BSqbF7Tn4Eej"
      }
    },
    {
      "cell_type": "code",
      "source": [
        "#Limpia tu data, para ello analiza:\n",
        "##Existencia de datos únicos: ocupando .unique()\n",
        "##Existencia de valores nulos: ocupando .isnull()\n",
        "##Existencia de duplicados: ocupando .duplicated()\n",
        "##Existencia de faltantes\n",
        "##Si vas a eliminar algún dato primero pregúntate ¿Cómo puedo evitar perderlos?\n",
        "##Si de todas formas lo vas a eliminar, ten una muy buena justificación (escríbela)\n",
        "##Elimina las columnas que no te agregen valor a tu análisis con .drop(...)\n",
        "##Tip 👀: Si el nombre de las variables no se entiende, cambiales el nombre"
      ],
      "metadata": {
        "id": "MoKSc5Rq4D95"
      },
      "execution_count": null,
      "outputs": []
    },
    {
      "cell_type": "markdown",
      "source": [
        "*Añade breve conclusión de la investigación de calidad"
      ],
      "metadata": {
        "id": "UcfrXYSA4dLW"
      }
    },
    {
      "cell_type": "markdown",
      "source": [
        "#4 Análisis Univariado"
      ],
      "metadata": {
        "id": "yXVj5Fty4pic"
      }
    },
    {
      "cell_type": "markdown",
      "source": [
        "##4.1 Analisis de outliers"
      ],
      "metadata": {
        "id": "SMKdXnA24rd9"
      }
    },
    {
      "cell_type": "code",
      "source": [
        "#Has gráficos de caja para representar los outliers\n",
        "#Tip 👀: En la presentación solo nombra los outliers que te llamaron la atención\n",
        "#Tip 👀: Si vas a eliminar un outlier añade su respectiva justificación"
      ],
      "metadata": {
        "id": "-GYyPJpz4w2V"
      },
      "execution_count": null,
      "outputs": []
    },
    {
      "cell_type": "markdown",
      "source": [
        "##4.2 Análisis gráfico"
      ],
      "metadata": {
        "id": "bQi8-YWt5-wh"
      }
    },
    {
      "cell_type": "code",
      "source": [
        "#Tip 👀: Te recomiendo hacer gráficos para ver tu variable claramente (Histográma, gráfico de barras, gráfico de dispersión, etc.)\n",
        "#Tip 👀: Recuerda poner los ejes de los gráficos\n",
        "#Si tienes columnas cualitativas ocupa One Hot Encoder !!"
      ],
      "metadata": {
        "id": "zY-R9FLq4-rj"
      },
      "execution_count": null,
      "outputs": []
    },
    {
      "cell_type": "markdown",
      "source": [
        "*Añade conclusión de tus variables ¿Están sesgados? - intenta ir por el análisis no trivial de los datos"
      ],
      "metadata": {
        "id": "rlzMf9bS7VhV"
      }
    },
    {
      "cell_type": "markdown",
      "source": [
        "## 4.3 Estadística descriptiva"
      ],
      "metadata": {
        "id": "iUACu9417Z1y"
      }
    },
    {
      "cell_type": "code",
      "source": [
        "# ocupando .describe()"
      ],
      "metadata": {
        "id": "QKnVibeb72co"
      },
      "execution_count": null,
      "outputs": []
    },
    {
      "cell_type": "markdown",
      "source": [
        "*Añade conclusión de la estadística"
      ],
      "metadata": {
        "id": "9FqMbB-V718W"
      }
    },
    {
      "cell_type": "markdown",
      "source": [
        "#5 Análisis Bivariado"
      ],
      "metadata": {
        "id": "qQiD35TQVsG3"
      }
    },
    {
      "cell_type": "markdown",
      "source": [
        "##5.1 Análisis gráfico"
      ],
      "metadata": {
        "id": "X9qGXb5eXqhF"
      }
    },
    {
      "cell_type": "code",
      "source": [
        "#Añade graficos comparando tu target\n",
        "#Tip👀: Para comparar las variables puedes hacer un pairplot pero enfocate solo los gráficos importantes\n",
        "#Tip👀: Recuerda poner los ejes de los gráficos y que la distribución con menos datos se vea adelante y se distinga claramente"
      ],
      "metadata": {
        "id": "ocdH7jyKX0WD"
      },
      "execution_count": null,
      "outputs": []
    },
    {
      "cell_type": "markdown",
      "source": [
        "*Añade conclusión del análisis gráfico"
      ],
      "metadata": {
        "id": "PX7QlO4mZIhD"
      }
    },
    {
      "cell_type": "markdown",
      "source": [
        "##5.2 Estadística descriptiva"
      ],
      "metadata": {
        "id": "MdgqU9STVvIf"
      }
    },
    {
      "cell_type": "code",
      "source": [
        "#Tip👀: Compara la estadística de tu target"
      ],
      "metadata": {
        "id": "sactw4KSXXet"
      },
      "execution_count": null,
      "outputs": []
    },
    {
      "cell_type": "markdown",
      "source": [
        "*Añade conclusión de la estadística bivariada"
      ],
      "metadata": {
        "id": "TT7s90K9XiX9"
      }
    },
    {
      "cell_type": "markdown",
      "source": [
        "#6 Análisis Multivariado"
      ],
      "metadata": {
        "id": "DpoSxDDWXztE"
      }
    },
    {
      "cell_type": "markdown",
      "source": [
        "##6.1 Correlación"
      ],
      "metadata": {
        "id": "ZFhntxIvX-Qb"
      }
    },
    {
      "cell_type": "code",
      "source": [
        "#Has una correlación entre tus datos y destaca las variables con mayor correlación"
      ],
      "metadata": {
        "id": "Gab3RUFUYm61"
      },
      "execution_count": null,
      "outputs": []
    },
    {
      "cell_type": "markdown",
      "source": [
        "*Añade conclusión de la correlación"
      ],
      "metadata": {
        "id": "k8EoB9TzYmlh"
      }
    },
    {
      "cell_type": "markdown",
      "source": [
        "# 7 Estadística Inferencial: Test de Hipótesis"
      ],
      "metadata": {
        "id": "tdm0VUINYl_m"
      }
    },
    {
      "cell_type": "markdown",
      "source": [
        "Dado todo en análisis previo, te podrás hacer preguntas, como: ¿Es verdad que la media de los insectos hombres en esta variable es mayor que en las mujeres?, Deja estás preguntas textualmente en esta sección, que sean el inicio del desarrollo de los test de hipótesis, no realicemos test por hacerlos, ¿qué quieres analizar o comprobar?.\n",
        "\n",
        "A continuación te muestro los test de hipótesis más comunes.\n",
        "\n",
        "OJO: DEPENDE DE TUS DATOS Y TU ENFOQUE CUALES PRUEBAS DEBES REALIZAR. ESTOS SON SOLO EJEMPLOS."
      ],
      "metadata": {
        "id": "-r24KxVnaHb4"
      }
    },
    {
      "cell_type": "markdown",
      "source": [
        "##7.1 Pruebas de normalidad"
      ],
      "metadata": {
        "id": "_E0Tb2_mZKRT"
      }
    },
    {
      "cell_type": "code",
      "source": [
        "#Realiza pruebas de normalidad"
      ],
      "metadata": {
        "id": "8CB9R_O_ZPyb"
      },
      "execution_count": null,
      "outputs": []
    },
    {
      "cell_type": "markdown",
      "source": [
        "*Añade conclusión de la normalidad ¿Qué variables son probablente normales y cuáles no?"
      ],
      "metadata": {
        "id": "B-djgngDZOaq"
      }
    },
    {
      "cell_type": "markdown",
      "source": [
        "##7.2 Pruebas de varianza"
      ],
      "metadata": {
        "id": "Qslwqv02Zr4s"
      }
    },
    {
      "cell_type": "code",
      "source": [
        "#Realiza pruebas de varianza"
      ],
      "metadata": {
        "id": "Ctg_M4FgZvGq"
      },
      "execution_count": null,
      "outputs": []
    },
    {
      "cell_type": "markdown",
      "source": [
        "*Añade conclusión de la varianza ¿Qué variables tienen varianzas iguales y cualés diferentes?"
      ],
      "metadata": {
        "id": "cIIGUOGBZ2l3"
      }
    },
    {
      "cell_type": "markdown",
      "source": [
        "##7.3 Pruebas de medias"
      ],
      "metadata": {
        "id": "C38QCjlcaC1G"
      }
    },
    {
      "cell_type": "code",
      "source": [
        "#Realiza pruebas de medias"
      ],
      "metadata": {
        "id": "8jWYVFnVZ16T"
      },
      "execution_count": null,
      "outputs": []
    },
    {
      "cell_type": "markdown",
      "source": [
        "*Añade conclusión de las medias ¿Las medias probablemente son significativamente diferentes o son iguales?"
      ],
      "metadata": {
        "id": "__hWaTJLaQFq"
      }
    },
    {
      "cell_type": "markdown",
      "source": [
        "# 8 Conclusión"
      ],
      "metadata": {
        "id": "fyoe_0wkbQRM"
      }
    },
    {
      "cell_type": "markdown",
      "source": [
        "*Has un resumen de todo tu análisis y añade conclusiones no triviales."
      ],
      "metadata": {
        "id": "FIq9_ZvJbXBI"
      }
    },
    {
      "cell_type": "markdown",
      "source": [
        "#9 Referencias"
      ],
      "metadata": {
        "id": "7bhSOE8ofO_H"
      }
    },
    {
      "cell_type": "markdown",
      "source": [
        "*Cita las referencias que ocupaste"
      ],
      "metadata": {
        "id": "hgu4-DrEfS00"
      }
    }
  ]
}